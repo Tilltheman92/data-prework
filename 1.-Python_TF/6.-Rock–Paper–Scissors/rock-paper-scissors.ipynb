{
 "cells": [
  {
   "cell_type": "markdown",
   "metadata": {},
   "source": [
    "<img src=\"https://bit.ly/2VnXWr2\" width=\"100\" align=\"left\">"
   ]
  },
  {
   "cell_type": "markdown",
   "metadata": {},
   "source": [
    "# Rock, Paper & Scissors\n",
    "\n",
    "Let's play the famous game against our computer. You can check the rules [here](https://en.wikipedia.org/wiki/Rock%E2%80%93paper%E2%80%93scissors). \n",
    "\n",
    "## Task\n",
    "Create a program that imitates the playability of the well known game of rock, paper, scissors. Follow the guidelines provided.\n",
    "\n",
    "## Tools\n",
    "1. Loop: **for/while**\n",
    "2. Functions: **input(), print()...**\n",
    "3. Conditional statements: **if, elif, else**\n",
    "4. Definition of functions. Modular programming\n",
    "5. Import modules\n",
    "\n",
    "**To solve this challenge, the use of functions is recommended.**\n",
    "\n",
    "#### 1. Import the choice function of the random module."
   ]
  },
  {
   "cell_type": "code",
   "execution_count": 15,
   "metadata": {},
   "outputs": [
    {
     "data": {
      "text/plain": [
       "'scissor'"
      ]
     },
     "execution_count": 15,
     "metadata": {},
     "output_type": "execute_result"
    }
   ],
   "source": [
    "import random \n",
    "random.choice([\"rock\",\"paper\",\"scissor\"])"
   ]
  },
  {
   "cell_type": "markdown",
   "metadata": {},
   "source": [
    "#### 2. Create a list that includes the 3 possible gesture options of the game: 'rock', 'paper' or 'scissors'. Store the list in a variable called `gestures`."
   ]
  },
  {
   "cell_type": "code",
   "execution_count": null,
   "metadata": {},
   "outputs": [],
   "source": [
    "gestures=[rock,paper,scissor]"
   ]
  },
  {
   "cell_type": "markdown",
   "metadata": {},
   "source": [
    "#### 3. Create a variable called `n_rounds` to store the maximum number of rounds to play in a game. \n",
    "Remember that the number of rounds must be odd: 1, 3, 5, ..."
   ]
  },
  {
   "cell_type": "code",
   "execution_count": null,
   "metadata": {},
   "outputs": [],
   "source": [
    "n_rounds=3"
   ]
  },
  {
   "cell_type": "markdown",
   "metadata": {},
   "source": [
    "#### 4. Create a variable called `rounds_to_win` to store the number of rounds that a player must win to win the game.\n",
    "**Hint**: the value stored in `rounds_to_win` depends on the value of `n_rounds`. "
   ]
  },
  {
   "cell_type": "code",
   "execution_count": null,
   "metadata": {},
   "outputs": [],
   "source": [
    "rounds_to_win=2"
   ]
  },
  {
   "cell_type": "markdown",
   "metadata": {},
   "source": [
    "#### 5. Create two variables to store the number of rounds that the computer and the player have won. Call these variables `cpu_score` and `player_score`."
   ]
  },
  {
   "cell_type": "code",
   "execution_count": null,
   "metadata": {},
   "outputs": [],
   "source": [
    "cpu_score=0\n",
    "player_score=0"
   ]
  },
  {
   "cell_type": "markdown",
   "metadata": {},
   "source": [
    "#### 6. Define a function that randomly returns one of the 3 gesture options.\n",
    "You will use this function to simulate the gesture choice of the computer. "
   ]
  },
  {
   "cell_type": "code",
   "execution_count": 27,
   "metadata": {},
   "outputs": [],
   "source": [
    "# Could not get it to work with random.choice, so switched to random.int\n",
    "#gestures=[\"rock\",\"paper\",\"scissors\"]\n",
    "#cpu_choice()\n",
    "#print (\"The computer chooses:\", (random.choice(gestures)))\n",
    "\n",
    "def cpu_choice():\n",
    "    comp_choice = random.randint(1,3)\n",
    "    if comp_choice == rock:\n",
    "        comp_choice = \"r\"\n",
    "    elif comp_choice == 2: \n",
    "        comp_choice = \"p\"\n",
    "    elif comp_choice == 3:\n",
    "        comp_choice = \"s\"\n",
    "    return comp_choice\n"
   ]
  },
  {
   "cell_type": "markdown",
   "metadata": {},
   "source": [
    "#### 7. Define a function that asks the player which is the gesture he or she wants to show: 'rock', 'paper' or 'scissors'.\n",
    "The player should only be allowed to choose one of the 3 gesture options. If the player's choice is not rock, paper or scissors, keep asking until it is."
   ]
  },
  {
   "cell_type": "code",
   "execution_count": 28,
   "metadata": {},
   "outputs": [],
   "source": [
    "def Choose_Option():\n",
    "    user_choice = input (\"What do you choose: \")\n",
    "    if user_choice in [\"Rock\", \"rock\"]:\n",
    "        user_choice = \"r\"\n",
    "    elif user_chocie in [\"Paper\", \"paper\"]:\n",
    "        user_choice = \"p\"\n",
    "    elif user_chocie in [\"Scissors\", \"scissors\"]:\n",
    "        user_chocie = \"s\"\n",
    "    else:\n",
    "         print (\"Please choose Rock, Paper or Scissors\") \n",
    "         Choose_Option()\n",
    "    return user_choice                     \n",
    "                       \n",
    "                    "
   ]
  },
  {
   "cell_type": "markdown",
   "metadata": {},
   "source": [
    "#### 8. Define a function that checks who won a round. \n",
    "The function should return 0 if there is a tie, 1 if the computer wins and 2 if the player wins."
   ]
  },
  {
   "cell_type": "code",
   "execution_count": null,
   "metadata": {},
   "outputs": [
    {
     "name": "stdout",
     "output_type": "stream",
     "text": [
      "\n"
     ]
    }
   ],
   "source": [
    "def Choose_Option():\n",
    "    user_choice = input (\"What do you choose: \")\n",
    "    if user_choice in [\"Rock\", \"rock\"]:\n",
    "        user_choice = \"r\"\n",
    "    elif user_chocie in [\"Paper\", \"paper\"]:\n",
    "        user_choice = \"p\"\n",
    "    elif user_chocie in [\"Scissors\", \"scissors\"]:\n",
    "        user_chocie = \"s\"\n",
    "    else:\n",
    "         print (\"Please choose Rock, Paper or Scissors\") \n",
    "         Choose_Option()\n",
    "    return user_choice                     \n",
    "                       \n",
    "                    \n",
    "while True:\n",
    "    print (\"\")\n",
    "    user_choice = Choose_Option()\n",
    "    comp_choice = cpu_choice()\n",
    "    \n",
    "    if user_choice == \"r\":\n",
    "        if comp_choice == \"r\":\n",
    "            print (\"You chose Rock. The computer chose Rock. It's a tie\")\n",
    "        elif comp_choice == \"p\":\n",
    "            print (\"You chose Rock. The computer chose Paper. Computer wins this round\")\n",
    "            cpu_score +=1\n",
    "        elif comp_choice == \"s\":\n",
    "            print (\"You chose Rock. The computer chose scissors. You win.\")\n",
    "            player_score +=1\n",
    "            \n",
    "    elif user_choice == \"p\":\n",
    "        if comp_choice == \"r\":\n",
    "            print (\"You chose Paper. The computer chose Rock. You win\")\n",
    "            player_score +=1\n",
    "        elif comp_choice == \"p\":\n",
    "            print (\"You chose Paper. The computer chose Paper. It's a tie\")\n",
    "        elif comp_choice == \"s\":\n",
    "            print (\"You chose Paper. The computer chose scissors. Computer wins\")\n",
    "            cpu_score +=1\n",
    "      \n",
    "    elif user_choice == \"s\":\n",
    "         if comp_choice == \"r\":\n",
    "            print (\"You chose Schissors. The computer chose Rock. Computer wins\")\n",
    "            cpu_score +=1\n",
    "         elif comp_choice == \"p\":\n",
    "            print (\"You chose Scissors. The computer chose Paper. You win\")\n",
    "            player_score +=1\n",
    "         elif comp_choice == \"s\":\n",
    "            print (\"You chose Scissors. The computer chose scissors. It's a tie\")\n",
    "           \n",
    "        \n",
    "            \n",
    "            \n",
    "            "
   ]
  },
  {
   "cell_type": "markdown",
   "metadata": {},
   "source": [
    "#### 9. Define a function that prints the choice of the computer, the choice of the player and a message that announces who won the current round. \n",
    "You should also use this function to update the variables that count the number of rounds that the computer and the player have won. The score of the winner increases by one point. If there is a tie, the score does not increase."
   ]
  },
  {
   "cell_type": "code",
   "execution_count": null,
   "metadata": {},
   "outputs": [],
   "source": [
    "while True:\n",
    "    print (\"\")\n",
    "    user_choice = Choose_Option()\n",
    "    comp_choice = cpu_choice()\n",
    "    \n",
    "    if user_choice == \"r\":\n",
    "        if comp_choice == \"r\":\n",
    "            print (\"You chose Rock. The computer chose Rock. It's a tie\")\n",
    "        elif comp_choice == \"p\":\n",
    "            print (\"You chose Rock. The computer chose Paper. Computer wins this round\")\n",
    "            cpu_score +=1\n",
    "        elif comp_choice == \"s\":\n",
    "            print (\"You chose Rock. The computer chose scissors. You win.\")\n",
    "            player_score +=1\n",
    "            \n",
    "    elif user_choice == \"p\":\n",
    "        if comp_choice == \"r\":\n",
    "            print (\"You chose Paper. The computer chose Rock. You win\")\n",
    "            player_score +=1\n",
    "        elif comp_choice == \"p\":\n",
    "            print (\"You chose Paper. The computer chose Paper. It's a tie\")\n",
    "        elif comp_choice == \"s\":\n",
    "            print (\"You chose Paper. The computer chose scissors. Computer wins\")\n",
    "            cpu_score +=1\n",
    "      \n",
    "    elif user_choice == \"s\":\n",
    "         if comp_choice == \"r\":\n",
    "            print (\"You chose Schissors. The computer chose Rock. Computer wins\")\n",
    "            cpu_score +=1\n",
    "         elif comp_choice == \"p\":\n",
    "            print (\"You chose Scissors. The computer chose Paper. You win\")\n",
    "            player_score +=1\n",
    "         elif comp_choice == \"s\":\n",
    "            print (\"You chose Scissors. The computer chose scissors. It's a tie\")\n",
    "           "
   ]
  },
  {
   "cell_type": "markdown",
   "metadata": {},
   "source": [
    "#### 10. Now it's time to code the execution of the game using the functions and variables you defined above. \n",
    "\n",
    "First, create a loop structure that repeats while no player reaches the minimum score necessary to win and the number of rounds is less than the maximum number of rounds to play in a game.  \n",
    "\n",
    "Inside the loop, use the functions and variables above to create the execution of a round: ask for the player's choice, generate the random choice of the computer, show the round results, update the scores, etc. "
   ]
  },
  {
   "cell_type": "code",
   "execution_count": 41,
   "metadata": {},
   "outputs": [
    {
     "name": "stdout",
     "output_type": "stream",
     "text": [
      "What do you choose: Scissors\n",
      "You chose Scissors. The computer chose scissors. It's a tie\n",
      "What do you choose: Paper\n",
      "You chose Paper. The computer chose Rock. You win\n",
      "What do you choose: Rock\n",
      "You chose Rock. The computer chose scissors. You win.\n",
      "Congrats you won 2 out of 3 times\n"
     ]
    }
   ],
   "source": [
    "cpu_score=0\n",
    "player_score=0\n",
    "rounds_to_win=2\n",
    "#USER CHOICE\n",
    "def Choose_Option():\n",
    "    user_choice = input (\"What do you choose: \")\n",
    "    if user_choice in [\"Rock\", \"rock\"]:\n",
    "        user_choice = \"r\"\n",
    "    elif user_choice in [\"Paper\", \"paper\"]:\n",
    "        user_choice = \"p\"\n",
    "    elif user_choice in [\"Scissors\", \"scissors\"]:\n",
    "        user_choice = \"s\"\n",
    "    else:\n",
    "         print (\"Please choose Rock, Paper or Scissors\") \n",
    "         Choose_Option()\n",
    "    return user_choice            \n",
    "#Computer Choice\n",
    "def cpu_choice():\n",
    "    comp_choice = random.randint(1,3)\n",
    "    if comp_choice == 1:\n",
    "        comp_choice = \"r\"\n",
    "    elif comp_choice == 2: \n",
    "        comp_choice = \"p\"\n",
    "    elif comp_choice == 3:\n",
    "        comp_choice = \"s\"\n",
    "    return comp_choice\n",
    "#Game\n",
    "while True:\n",
    "    print \n",
    "    user_choice = Choose_Option()\n",
    "    comp_choice = cpu_choice()\n",
    "    \n",
    "    if user_choice == \"r\":\n",
    "        if comp_choice == \"r\":\n",
    "            print (\"You chose Rock. The computer chose Rock. It's a tie\")\n",
    "        elif comp_choice == \"p\":\n",
    "            print (\"You chose Rock. The computer chose Paper. Computer wins this round\")\n",
    "            cpu_score +=1\n",
    "        elif comp_choice == \"s\":\n",
    "            print (\"You chose Rock. The computer chose scissors. You win.\")\n",
    "            player_score +=1\n",
    "            \n",
    "    elif user_choice == \"p\":\n",
    "        if comp_choice == \"r\":\n",
    "            print (\"You chose Paper. The computer chose Rock. You win\")\n",
    "            player_score +=1\n",
    "        elif comp_choice == \"p\":\n",
    "            print (\"You chose Paper. The computer chose Paper. It's a tie\")\n",
    "        elif comp_choice == \"s\":\n",
    "            print (\"You chose Paper. The computer chose scissors. Computer wins\")\n",
    "            cpu_score +=1\n",
    "      \n",
    "    elif user_choice == \"s\":\n",
    "        if comp_choice == \"r\":\n",
    "            print (\"You chose Schissors. The computer chose Rock. Computer wins\")\n",
    "            cpu_score +=1\n",
    "        elif comp_choice == \"p\":\n",
    "            print (\"You chose Scissors. The computer chose Paper. You win\")\n",
    "            player_score +=1\n",
    "        elif comp_choice == \"s\":\n",
    "            print (\"You chose Scissors. The computer chose scissors. It's a tie\")\n",
    "    if cpu_score>1:\n",
    "        print (\"The computer won 2 out of 3 times\")\n",
    "        break\n",
    "    if player_score>1:\n",
    "        print (\"Congrats you won 2 out of 3 times\")\n",
    "        break"
   ]
  },
  {
   "cell_type": "markdown",
   "metadata": {},
   "source": [
    "#### 11. Print the winner of the game based on who won more rounds.\n",
    "Remember that the game might be tied. "
   ]
  },
  {
   "cell_type": "code",
   "execution_count": null,
   "metadata": {},
   "outputs": [],
   "source": [
    " if cpu_score>1:\n",
    "        print (\"The computer won 2 out of 3 times\")\n",
    "        break\n",
    "    if player_score>1:\n",
    "        print (\"Congrats you won 2 out of 3 times\")\n",
    "        break"
   ]
  },
  {
   "cell_type": "markdown",
   "metadata": {},
   "source": [
    "# Bonus: Rock, Paper, Scissors, Lizard & Spock\n",
    "![](images/rpsls.jpg)\n",
    "\n",
    "In this challenge, you need to improve the previous game by adding two new options. To know more about the rules of the improved version of rock, paper, scissors, check this [link](http://www.samkass.com/theories/RPSSL.html). \n",
    "\n",
    "In addition, you will also need to improve how the game interacts with the player: the number of rounds to play, which must be an odd number, will be requested to the user until a valid number is entered. Define a new function to make that request.\n",
    "\n",
    "**Hint**: Try to reuse the code that you already coded in the previous challenge. If your code is efficient, this bonus will only consist of simple modifications to the original game."
   ]
  },
  {
   "cell_type": "code",
   "execution_count": null,
   "metadata": {},
   "outputs": [],
   "source": []
  }
 ],
 "metadata": {
  "kernelspec": {
   "display_name": "Python 3",
   "language": "python",
   "name": "python3"
  },
  "language_info": {
   "codemirror_mode": {
    "name": "ipython",
    "version": 3
   },
   "file_extension": ".py",
   "mimetype": "text/x-python",
   "name": "python",
   "nbconvert_exporter": "python",
   "pygments_lexer": "ipython3",
   "version": "3.7.0"
  }
 },
 "nbformat": 4,
 "nbformat_minor": 2
}
