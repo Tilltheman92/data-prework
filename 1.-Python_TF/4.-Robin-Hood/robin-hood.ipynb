{
 "cells": [
  {
   "cell_type": "markdown",
   "metadata": {},
   "source": [
    "<img src=\"https://bit.ly/2VnXWr2\" width=\"100\" align=\"left\"/>"
   ]
  },
  {
   "cell_type": "markdown",
   "metadata": {},
   "source": [
    "# Robin Hood\n",
    "Robin Hood has entered a competition to win the archery contest in Sherwood. With his bow and arrows, he needs to shoot on a target and try to hit as close as possible to the center.\n",
    "\n",
    "![](images/arrows.jpg)\n",
    "\n",
    "## Context\n",
    "In this challenge, the landing position of arrows shot by archers in the competition will be represented using 2-dimensional coordinates. \n",
    "\n",
    "In the 2-dimensional space, a point can be defined by a pair of values that correspond to the horizontal coordinate (x) and the vertical coordinate (y). For example, in our case, an arrow that hits the center of the archery target will land in position (0, 0) on the coordinate axes. \n",
    "\n",
    "The space can be divided into 4 zones (quadrants): Q1, Q2, Q3, Q4. If a point is in Q1, both its x coordinate and y coordinate are positive. Any point with a null x or y coordinate is considered to not belong to any quadrant. \n",
    "\n",
    "If you want to know more about the cartesian coordinate system, you can check this [link](https://en.wikipedia.org/wiki/Cartesian_coordinate_system). \n",
    "\n",
    "## Tools\n",
    "You don't necessarily need to use all the tools. Maybe you opt to use some of them or completely different ones, they are given to help you shape the exercise. Programming exercises can be solved in many different ways.\n",
    "* Data structures: **lists, sets, tuples**\n",
    "* Conditional statements: **if-elif-else**\n",
    "* Loop: **while/for**\n",
    "* Minimum (optional sorting)\n",
    "\n",
    "## Tasks\n",
    "Robin Hood has hit the following points:"
   ]
  },
  {
   "cell_type": "code",
   "execution_count": null,
   "metadata": {},
   "outputs": [],
   "source": [
    "points = [(4, 5), (-0, 2), (4, 7), (1, -3), (3, -2), (4, 5), (3, 2), (5, 7), (-5, 7), (2, 2), (-4, 5), (0, -2),\n",
    "          (-4, 7), (-1, 3), (-3, 2), (-4, -5), (-3, 2), (5, 7), (5, 7), (2, 2), (9, 9), (-8, -9)]"
   ]
  },
  {
   "cell_type": "markdown",
   "metadata": {},
   "source": [
    "#### 1. Robin Hood is famous for hitting an arrow with another arrow. Find the coordinates of the points where an arrow hits another arrow."
   ]
  },
  {
   "cell_type": "code",
   "execution_count": 57,
   "metadata": {},
   "outputs": [
    {
     "data": {
      "text/plain": [
       "{(-3, 2), (2, 2), (4, 5), (5, 7)}"
      ]
     },
     "execution_count": 57,
     "metadata": {},
     "output_type": "execute_result"
    }
   ],
   "source": [
    "points = [(4, 5), (-0, 2), (4, 7), (1, -3), (3, -2), (4, 5), (3, 2), (5, 7), (-5, 7), (2, 2), (-4, 5), (0, -2),\n",
    "          (-4, 7), (-1, 3), (-3, 2), (-4, -5), (-3, 2), (5, 7), (5, 7), (2, 2), (9, 9), (-8, -9)]\n",
    "set([x for x in points if points.count(x) > 1])\n",
    "\n"
   ]
  },
  {
   "cell_type": "markdown",
   "metadata": {},
   "source": [
    "#### 2. Calculate how many arrows have fallen in each quadrant. \n",
    "**Note**: the arrows that fall in the axis (x=0 or y=0) don't belong to any quadrant."
   ]
  },
  {
   "cell_type": "code",
   "execution_count": 9,
   "metadata": {},
   "outputs": [
    {
     "name": "stdout",
     "output_type": "stream",
     "text": [
      "10 Arrows hit the first quadrant\n",
      "2 Arrows hit the fourth quadrant\n",
      "6 Arrows hit the second quadrant\n",
      "2 Arrows hit the third quadrant\n"
     ]
    }
   ],
   "source": [
    "points = [(4, 5), (-0, 2), (4, 7), (1, -3), (3, -2), (4, 5), (3, 2), (5, 7), (-5, 7), (2, 2), (-4, 5), (0, -2),\n",
    "          (-4, 7), (-1, 3), (-3, 2), (-4, -5), (-3, 2), (5, 7), (5, 7), (2, 2), (9, 9), (-8, -9)]\n",
    "right=[]\n",
    "left=[]\n",
    "first=[]\n",
    "second=[]\n",
    "third=[]\n",
    "fourth=[]\n",
    "# find all arrows in the 2 right quadrants\n",
    "for x in points:\n",
    "    if x [0]>0:\n",
    "        right.append(x)\n",
    "        \n",
    "#find all arrows above the x axis     \n",
    "for y in right:\n",
    "    if y [1]>0:\n",
    "        first.append(y)\n",
    "print (len(first), \"Arrows hit the first quadrant\")\n",
    "\n",
    "# find all arrows below the x axis\n",
    "for z in right:\n",
    "    if z [1]<0:\n",
    "        fourth.append(z)\n",
    "print (len(fourth), \"Arrows hit the fourth quadrant\")\n",
    "\n",
    "#find all arrows in the 2 left quadrants\n",
    "for q in points:\n",
    "    if q [0]<0:\n",
    "        left.append(q)\n",
    "#find arrows in the second quadrant\n",
    "for w in left:\n",
    "    if w[1]>0:\n",
    "        second.append(w)\n",
    "print (len(second), \"Arrows hit the second quadrant\")\n",
    "\n",
    "#find all arrows in third quadrand\n",
    "print (len(left)-len(second), \"Arrows hit the third quadrant\")\n",
    "        "
   ]
  },
  {
   "cell_type": "markdown",
   "metadata": {},
   "source": [
    "#### 3. Find the point closest to the center. Calculate its distance to the center. \n",
    "Take into account that there might be more than one point at the minimum distance to the center.\n",
    "\n",
    "**Hint**: Use the Euclidean distance. You can find more information about it [here](https://en.wikipedia.org/wiki/Euclidean_distance).  \n",
    "**Hint**: Defining a function that calculates the distance to the center can help."
   ]
  },
  {
   "cell_type": "code",
   "execution_count": 30,
   "metadata": {},
   "outputs": [
    {
     "name": "stdout",
     "output_type": "stream",
     "text": [
      "The distance from the center to the closest point is: 2.0\n",
      "The closest point is (0, 2)\n",
      "The closest points are: (0, 2) (0, -2)\n"
     ]
    }
   ],
   "source": [
    "points = [(4, 5), (-0, 2), (4, 7), (1, -3), (3, -2), (4, 5), (3, 2), (5, 7), (-5, 7), (2, 2), (-4, 5), (0, -2),\n",
    "          (-4, 7), (-1, 3), (-3, 2), (-4, -5), (-3, 2), (5, 7), (5, 7), (2, 2), (9, 9), (-8, -9)]\n",
    "far=[]\n",
    "#fomula for distance Distance=sqrt (x1-x2)^2 + (y1-y2)^2)\n",
    "def distance(x1,y1,x2,y2):\n",
    "    dist = ((x1-x2)**2 + (y1-y2)**2)**.5\n",
    "    return(dist)\n",
    "for x in points:\n",
    "    far.append(distance(x[0],x[1],0,0))\n",
    "print (\"The distance from the center to the closest point is:\",min(far))\n",
    "far.index(2.0)\n",
    "print (\"The closest point is\",points[1])\n",
    "#There are 2 points with the same minimum distance but with the index method I can only find 1\n",
    "far.count(2)\n",
    "far2=[i for i in range(len(far)) if far[i]==2]\n",
    "print (\"The closest points are:\", points[1],points[11])"
   ]
  },
  {
   "cell_type": "markdown",
   "metadata": {},
   "source": [
    "#### 4. If the archery target has a radius of 9, calculate the number of arrows that won't hit the target. \n",
    "**Hint**: Use the function created in step 3. "
   ]
  },
  {
   "cell_type": "code",
   "execution_count": 37,
   "metadata": {},
   "outputs": [
    {
     "name": "stdout",
     "output_type": "stream",
     "text": [
      "2 arrows wont hit the target\n"
     ]
    }
   ],
   "source": [
    "# Using the same function as before to calculate the distance,\n",
    "# all arrows with dist>9 wont hit the target\n",
    "\n",
    "points = [(4, 5), (-0, 2), (4, 7), (1, -3), (3, -2), (4, 5), (3, 2), (5, 7), (-5, 7), (2, 2), (-4, 5), (0, -2),\n",
    "          (-4, 7), (-1, 3), (-3, 2), (-4, -5), (-3, 2), (5, 7), (5, 7), (2, 2), (9, 9), (-8, -9)]\n",
    "arrow_dist=[]\n",
    "\n",
    "#fomula for distance Distance=sqrt (x1-x2)^2 + (y1-y2)^2)\n",
    "def distance(x1,y1,x2,y2):\n",
    "    dist = ((x1-x2)**2 + (y1-y2)**2)**.5\n",
    "    return(dist)\n",
    "for x in points:\n",
    "    arrow_dist.append(distance(x[0],x[1],0,0))  \n",
    "print (sum(i>9 for i in arrow_dist), \"arrows wont hit the target\")\n",
    "\n",
    "            \n",
    "             \n",
    "             \n",
    "             "
   ]
  }
 ],
 "metadata": {
  "kernelspec": {
   "display_name": "Python 3",
   "language": "python",
   "name": "python3"
  },
  "language_info": {
   "codemirror_mode": {
    "name": "ipython",
    "version": 3
   },
   "file_extension": ".py",
   "mimetype": "text/x-python",
   "name": "python",
   "nbconvert_exporter": "python",
   "pygments_lexer": "ipython3",
   "version": "3.7.0"
  }
 },
 "nbformat": 4,
 "nbformat_minor": 2
}
